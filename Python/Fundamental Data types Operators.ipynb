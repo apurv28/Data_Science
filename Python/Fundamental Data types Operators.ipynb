{
 "cells": [
  {
   "cell_type": "markdown",
   "id": "ea76a36f",
   "metadata": {},
   "source": [
    "# Data Types in Python"
   ]
  },
  {
   "cell_type": "markdown",
   "id": "3a1c631f",
   "metadata": {},
   "source": [
    "## Fundamental Data types\n",
    "\n",
    "   - Integer\n",
    "   - Floats\n",
    "   - Complex\n",
    "   - Boolean\n",
    "   - None\n",
    "   - String\n"
   ]
  },
  {
   "cell_type": "markdown",
   "id": "87ca828d",
   "metadata": {},
   "source": [
    "# Numbers\n",
    "\n",
    " - int\n",
    " - float\n",
    " - complex"
   ]
  },
  {
   "cell_type": "markdown",
   "id": "e3c4a8a1",
   "metadata": {},
   "source": [
    "# Integers"
   ]
  },
  {
   "cell_type": "code",
   "execution_count": 11,
   "id": "ef452862",
   "metadata": {},
   "outputs": [
    {
     "name": "stdout",
     "output_type": "stream",
     "text": [
      "10\n",
      "0b1011111101\n",
      "520\n",
      "0o1375\n",
      "0o12\n",
      "0o176230\n",
      "64664\n",
      "0x2fd\n",
      "0x1f4\n",
      "0xa\n",
      "0xfc98\n"
     ]
    }
   ],
   "source": [
    "# int - Any real number without the decimal point.\n",
    "# 10 , 0 , -10      Decimal format - 0 - 9\n",
    "\n",
    "# Integers can be represented in Binary, Octal or Hexadecimal vlues, decimal.\n",
    "\n",
    "# Binary representation of 10 - 0b1010\n",
    "\n",
    "a = 0b1010\n",
    "    \n",
    "print(a)\n",
    "\n",
    "# Output will be decimal equivalent - Binary to decimal conversion is Automatic\n",
    "\n",
    "# Converting from decimal to Binary:\n",
    "    \n",
    "# Conversion of 765 into binary format\n",
    "\n",
    "print(bin(765))\n",
    "\n",
    "# Bin - Should be preceded by 0b, 0B, allowed digits 0 & 1, Any format to binary is : bin()\n",
    "    \n",
    "# ---------------\n",
    "\n",
    "# Octal representation of 10 - 0o7654\n",
    "\n",
    "a = 0o1010\n",
    "    \n",
    "print(a)\n",
    "\n",
    "# Output will be decimal equivalent - Octal to decimal conversion is Automatic\n",
    "\n",
    "# Converting from decimal to octal:\n",
    "    \n",
    "# Conversion of 765 into Octal format\n",
    "\n",
    "print(oct(765))\n",
    "\n",
    "print(oct(0b1010)) # Binary\n",
    "\n",
    "print(oct(0xfc98)) # Hexadecimal format\n",
    "\n",
    "# Print any format in Octal but should be interger value\n",
    "\n",
    "# Oct - Should be preceded by 0o, 0O, allowed digits 0 to 7, Any format to Octal is : oct()\n",
    "\n",
    "# ---------------------\n",
    "\n",
    "# Hexa-decimal representation of 10 - 0xfc98\n",
    "\n",
    "a = 0xfc98\n",
    "    \n",
    "print(a)\n",
    "\n",
    "# Output will be decimal equivalent - Hexadecimal to decimal conversion is Automatic\n",
    "\n",
    "# Converting from decimal to Hexadecimal:\n",
    "    \n",
    "# Conversion of 765 into Hexadecimal format\n",
    "\n",
    "print(hex(765))\n",
    "\n",
    "print(hex(0o764))\n",
    "\n",
    "print(hex(0b1010)) # Binary\n",
    "\n",
    "print(hex(0xfc98)) # Hexadecimal format\n",
    "\n",
    "# Print any format in Octal but should be interger value\n",
    "\n",
    "# Oct - Should be preceded by 0x, 0X, allowed digits 0 to 9 and a/A to f/F, Any format to hexadecimal is : hex()\n",
    "\n",
    "    "
   ]
  },
  {
   "cell_type": "code",
   "execution_count": null,
   "id": "572a7dca",
   "metadata": {},
   "outputs": [],
   "source": []
  },
  {
   "cell_type": "code",
   "execution_count": null,
   "id": "b41f3300",
   "metadata": {},
   "outputs": [],
   "source": []
  },
  {
   "cell_type": "code",
   "execution_count": null,
   "id": "794257f5",
   "metadata": {},
   "outputs": [],
   "source": []
  },
  {
   "cell_type": "code",
   "execution_count": null,
   "id": "a35a5a5e",
   "metadata": {},
   "outputs": [],
   "source": []
  },
  {
   "cell_type": "code",
   "execution_count": null,
   "id": "10497470",
   "metadata": {},
   "outputs": [],
   "source": []
  },
  {
   "cell_type": "code",
   "execution_count": null,
   "id": "76543612",
   "metadata": {},
   "outputs": [],
   "source": []
  },
  {
   "cell_type": "code",
   "execution_count": null,
   "id": "f9b2f498",
   "metadata": {},
   "outputs": [],
   "source": []
  },
  {
   "cell_type": "code",
   "execution_count": null,
   "id": "d2a314fc",
   "metadata": {},
   "outputs": [],
   "source": []
  },
  {
   "cell_type": "code",
   "execution_count": null,
   "id": "93c646bd",
   "metadata": {},
   "outputs": [],
   "source": []
  },
  {
   "cell_type": "code",
   "execution_count": null,
   "id": "49316665",
   "metadata": {},
   "outputs": [],
   "source": []
  },
  {
   "cell_type": "code",
   "execution_count": null,
   "id": "f816623a",
   "metadata": {},
   "outputs": [],
   "source": []
  },
  {
   "cell_type": "code",
   "execution_count": null,
   "id": "ba03edf8",
   "metadata": {},
   "outputs": [],
   "source": []
  },
  {
   "cell_type": "code",
   "execution_count": null,
   "id": "7edd7f29",
   "metadata": {},
   "outputs": [],
   "source": []
  },
  {
   "cell_type": "code",
   "execution_count": null,
   "id": "325e2a13",
   "metadata": {},
   "outputs": [],
   "source": []
  },
  {
   "cell_type": "code",
   "execution_count": null,
   "id": "d7a3e5fb",
   "metadata": {},
   "outputs": [],
   "source": []
  },
  {
   "cell_type": "code",
   "execution_count": null,
   "id": "73693c00",
   "metadata": {},
   "outputs": [],
   "source": []
  }
 ],
 "metadata": {
  "kernelspec": {
   "display_name": "Python 3",
   "language": "python",
   "name": "python3"
  },
  "language_info": {
   "codemirror_mode": {
    "name": "ipython",
    "version": 3
   },
   "file_extension": ".py",
   "mimetype": "text/x-python",
   "name": "python",
   "nbconvert_exporter": "python",
   "pygments_lexer": "ipython3",
   "version": "3.8.8"
  }
 },
 "nbformat": 4,
 "nbformat_minor": 5
}
